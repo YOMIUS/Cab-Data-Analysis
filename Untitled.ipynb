{
 "cells": [
  {
   "cell_type": "code",
   "execution_count": null,
   "id": "91afb8f4",
   "metadata": {},
   "outputs": [],
   "source": [
    "5**2"
   ]
  },
  {
   "cell_type": "code",
   "execution_count": null,
   "id": "240bcb71",
   "metadata": {},
   "outputs": [],
   "source": [
    "20/5"
   ]
  },
  {
   "cell_type": "code",
   "execution_count": null,
   "id": "3fa99d39",
   "metadata": {},
   "outputs": [],
   "source": [
    "5%2"
   ]
  },
  {
   "cell_type": "code",
   "execution_count": null,
   "id": "26667253",
   "metadata": {},
   "outputs": [],
   "source": [
    "'STRING1 '* 4"
   ]
  },
  {
   "cell_type": "code",
   "execution_count": null,
   "id": "949873b8",
   "metadata": {},
   "outputs": [],
   "source": [
    "True == True"
   ]
  },
  {
   "cell_type": "code",
   "execution_count": null,
   "id": "29afe135",
   "metadata": {},
   "outputs": [],
   "source": [
    "5>=2"
   ]
  },
  {
   "cell_type": "code",
   "execution_count": null,
   "id": "f1ac61e9",
   "metadata": {},
   "outputs": [],
   "source": [
    "a = True\n",
    "b = True\n",
    "if a:\n",
    "    print('True')\n",
    "    print('Also print this')\n",
    "    if b:\n",
    "        print('Both are true')\n",
    "else:\n",
    "    print('False')"
   ]
  },
  {
   "cell_type": "code",
   "execution_count": null,
   "id": "d6d7f3d8",
   "metadata": {
    "scrolled": true
   },
   "outputs": [],
   "source": [
    "a = [1,2,3,4,5]\n",
    "for item in a:\n",
    "    print (item)"
   ]
  },
  {
   "cell_type": "code",
   "execution_count": null,
   "id": "eecc26fc",
   "metadata": {},
   "outputs": [],
   "source": [
    "a = 0\n",
    "while a<5:\n",
    "    print(a)\n",
    "    a=a+1"
   ]
  },
  {
   "cell_type": "code",
   "execution_count": 18,
   "id": "bb65ae3b",
   "metadata": {},
   "outputs": [
    {
     "name": "stdout",
     "output_type": "stream",
     "text": [
      "Hello,World\n"
     ]
    }
   ],
   "source": [
    "print('Hello, World')"
   ]
  },
  {
   "cell_type": "code",
   "execution_count": 20,
   "id": "c97f635e",
   "metadata": {},
   "outputs": [
    {
     "data": {
      "text/plain": [
       "12"
      ]
     },
     "execution_count": 20,
     "metadata": {},
     "output_type": "execute_result"
    }
   ],
   "source": [
    "# Stands for definition\n",
    "def multiplybyThree(val):\n",
    "    return 3 * val\n",
    "\n",
    "multiplybyThree(4)"
   ]
  },
  {
   "cell_type": "code",
   "execution_count": 24,
   "id": "d4b71055",
   "metadata": {},
   "outputs": [
    {
     "data": {
      "text/plain": [
       "12"
      ]
     },
     "execution_count": 24,
     "metadata": {},
     "output_type": "execute_result"
    }
   ],
   "source": [
    "def multiply(val1, val2):\n",
    "    return val1*val2\n",
    "multiply(3,4)"
   ]
  },
  {
   "cell_type": "code",
   "execution_count": 27,
   "id": "b4539533",
   "metadata": {},
   "outputs": [
    {
     "name": "stdout",
     "output_type": "stream",
     "text": [
      "[1, 2, 3, 4, 5, 6]\n"
     ]
    }
   ],
   "source": [
    "a = [1,2,3,4,5]\n",
    "def appendsix(myList):\n",
    "    myList.append(6)\n",
    "\n",
    "appendsix(a)\n",
    "print(a)"
   ]
  },
  {
   "cell_type": "code",
   "execution_count": 38,
   "id": "73f7a7cc",
   "metadata": {},
   "outputs": [],
   "source": [
    "#eVERYTHING IN THE INDENT IS THE CLASS DEFINITION\n",
    "#Init stands for initialization\n",
    "#self is the specific instance of the dog class after you initialize it\n",
    "class Dog:\n",
    "    def __init__(self,name):\n",
    "        self.name = name\n",
    "        self.legs = 4\n",
    "        \n",
    "    def speak(self):\n",
    "        print(self.name + 'says: Bark!')"
   ]
  },
  {
   "cell_type": "code",
   "execution_count": 40,
   "id": "5e763d01",
   "metadata": {},
   "outputs": [],
   "source": [
    "# Class instamces are also called objects\n",
    "my_dog = Dog('Fluffy')\n",
    "another_dog = Dog('Rover')"
   ]
  },
  {
   "cell_type": "code",
   "execution_count": 41,
   "id": "e93201a0",
   "metadata": {},
   "outputs": [
    {
     "name": "stdout",
     "output_type": "stream",
     "text": [
      "Fluffysays: Bark!\n"
     ]
    }
   ],
   "source": [
    "my_dog.speak()"
   ]
  },
  {
   "cell_type": "code",
   "execution_count": 42,
   "id": "d45f5138",
   "metadata": {},
   "outputs": [
    {
     "name": "stdout",
     "output_type": "stream",
     "text": [
      "Roversays: Bark!\n"
     ]
    }
   ],
   "source": [
    "another_dog.speak()"
   ]
  },
  {
   "cell_type": "code",
   "execution_count": null,
   "id": "ef353267",
   "metadata": {},
   "outputs": [],
   "source": []
  }
 ],
 "metadata": {
  "kernelspec": {
   "display_name": "Python 3 (ipykernel)",
   "language": "python",
   "name": "python3"
  },
  "language_info": {
   "codemirror_mode": {
    "name": "ipython",
    "version": 3
   },
   "file_extension": ".py",
   "mimetype": "text/x-python",
   "name": "python",
   "nbconvert_exporter": "python",
   "pygments_lexer": "ipython3",
   "version": "3.10.4"
  }
 },
 "nbformat": 4,
 "nbformat_minor": 5
}
