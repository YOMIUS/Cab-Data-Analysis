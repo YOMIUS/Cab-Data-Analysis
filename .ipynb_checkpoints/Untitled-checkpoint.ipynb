{
 "cells": [
  {
   "cell_type": "code",
   "execution_count": null,
   "id": "1b9ddffc",
   "metadata": {},
   "outputs": [],
   "source": [
    "5**2"
   ]
  },
  {
   "cell_type": "code",
   "execution_count": null,
   "id": "6b5d10a7",
   "metadata": {},
   "outputs": [],
   "source": [
    "20/5"
   ]
  },
  {
   "cell_type": "code",
   "execution_count": null,
   "id": "aa423572",
   "metadata": {},
   "outputs": [],
   "source": [
    "5%2"
   ]
  },
  {
   "cell_type": "code",
   "execution_count": null,
   "id": "c603f0db",
   "metadata": {},
   "outputs": [],
   "source": [
    "'STRING1 '* 4"
   ]
  },
  {
   "cell_type": "code",
   "execution_count": null,
   "id": "ae985430",
   "metadata": {},
   "outputs": [],
   "source": [
    "True == True"
   ]
  },
  {
   "cell_type": "code",
   "execution_count": null,
   "id": "788a5e26",
   "metadata": {},
   "outputs": [],
   "source": [
    "5>=2"
   ]
  },
  {
   "cell_type": "code",
   "execution_count": null,
   "id": "346216bb",
   "metadata": {},
   "outputs": [],
   "source": [
    "a = True\n",
    "b = True\n",
    "if a:\n",
    "    print('True')\n",
    "    print('Also print this')\n",
    "    if b:\n",
    "        print('Both are true')\n",
    "else:\n",
    "    print('False')"
   ]
  },
  {
   "cell_type": "code",
   "execution_count": null,
   "id": "3b4c08ea",
   "metadata": {
    "scrolled": true
   },
   "outputs": [],
   "source": [
    "a = [1,2,3,4,5]\n",
    "for item in a:\n",
    "    print (item)"
   ]
  },
  {
   "cell_type": "code",
   "execution_count": null,
   "id": "a156bb2b",
   "metadata": {},
   "outputs": [],
   "source": [
    "a = 0\n",
    "while a<5:\n",
    "    print(a)\n",
    "    a=a+1"
   ]
  },
  {
   "cell_type": "code",
   "execution_count": 18,
   "id": "85fab5ff",
   "metadata": {},
   "outputs": [
    {
     "name": "stdout",
     "output_type": "stream",
     "text": [
      "Hello,World\n"
     ]
    }
   ],
   "source": [
    "print('Hello, World')"
   ]
  },
  {
   "cell_type": "code",
   "execution_count": 20,
   "id": "3cfabbe6",
   "metadata": {},
   "outputs": [
    {
     "data": {
      "text/plain": [
       "12"
      ]
     },
     "execution_count": 20,
     "metadata": {},
     "output_type": "execute_result"
    }
   ],
   "source": [
    "# Stands for definition\n",
    "def multiplybyThree(val):\n",
    "    return 3 * val\n",
    "\n",
    "multiplybyThree(4)"
   ]
  },
  {
   "cell_type": "code",
   "execution_count": 24,
   "id": "a8a372ad",
   "metadata": {},
   "outputs": [
    {
     "data": {
      "text/plain": [
       "12"
      ]
     },
     "execution_count": 24,
     "metadata": {},
     "output_type": "execute_result"
    }
   ],
   "source": [
    "def multiply(val1, val2):\n",
    "    return val1*val2\n",
    "multiply(3,4)"
   ]
  },
  {
   "cell_type": "code",
   "execution_count": 27,
   "id": "6a2c5804",
   "metadata": {},
   "outputs": [
    {
     "name": "stdout",
     "output_type": "stream",
     "text": [
      "[1, 2, 3, 4, 5, 6]\n"
     ]
    }
   ],
   "source": [
    "a = [1,2,3,4,5]\n",
    "def appendsix(myList):\n",
    "    myList.append(6)\n",
    "\n",
    "appendsix(a)\n",
    "print(a)"
   ]
  },
  {
   "cell_type": "code",
   "execution_count": 37,
   "id": "6d09b1ae",
   "metadata": {},
   "outputs": [],
   "source": [
    "#eVERYTHING IN THE INDENT IS THE CLASS DEFINITION\n",
    "#Init stands for initialization\n",
    "#self is the specific instance of the dog class after you initialize it\n",
    "class Dog:\n",
    "    def __init__(self,name):\n",
    "        self.name = name\n",
    "        self.legs = 4\n",
    "        \n",
    "    def speak(self):\n",
    "        print(self.name + 'says: Bark!')"
   ]
  },
  {
   "cell_type": "code",
   "execution_count": 34,
   "id": "47420668",
   "metadata": {},
   "outputs": [],
   "source": [
    "my_dog = Dog()\n",
    "another_dog = Dog()"
   ]
  },
  {
   "cell_type": "code",
   "execution_count": 35,
   "id": "27b672a1",
   "metadata": {},
   "outputs": [
    {
     "name": "stdout",
     "output_type": "stream",
     "text": [
      "Roversays: Bark!\n"
     ]
    }
   ],
   "source": [
    "my_dog.speak()"
   ]
  },
  {
   "cell_type": "code",
   "execution_count": 36,
   "id": "2dd7b572",
   "metadata": {},
   "outputs": [
    {
     "name": "stdout",
     "output_type": "stream",
     "text": [
      "Roversays: Bark!\n"
     ]
    }
   ],
   "source": [
    "another_dog.speak()"
   ]
  },
  {
   "cell_type": "code",
   "execution_count": null,
   "id": "bc77c79e",
   "metadata": {},
   "outputs": [],
   "source": []
  }
 ],
 "metadata": {
  "kernelspec": {
   "display_name": "Python 3 (ipykernel)",
   "language": "python",
   "name": "python3"
  },
  "language_info": {
   "codemirror_mode": {
    "name": "ipython",
    "version": 3
   },
   "file_extension": ".py",
   "mimetype": "text/x-python",
   "name": "python",
   "nbconvert_exporter": "python",
   "pygments_lexer": "ipython3",
   "version": "3.10.4"
  }
 },
 "nbformat": 4,
 "nbformat_minor": 5
}
